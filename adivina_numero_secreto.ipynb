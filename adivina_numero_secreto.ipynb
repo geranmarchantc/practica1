{
  "nbformat": 4,
  "nbformat_minor": 0,
  "metadata": {
    "colab": {
      "provenance": [],
      "authorship_tag": "ABX9TyMARvFE84VZoUadYiIw77ti",
      "include_colab_link": true
    },
    "kernelspec": {
      "name": "python3",
      "display_name": "Python 3"
    },
    "language_info": {
      "name": "python"
    }
  },
  "cells": [
    {
      "cell_type": "markdown",
      "metadata": {
        "id": "view-in-github",
        "colab_type": "text"
      },
      "source": [
        "<a href=\"https://colab.research.google.com/github/geranmarchantc/practica1/blob/main/adivina_numero_secreto.ipynb\" target=\"_parent\"><img src=\"https://colab.research.google.com/assets/colab-badge.svg\" alt=\"Open In Colab\"/></a>"
      ]
    },
    {
      "cell_type": "code",
      "execution_count": null,
      "metadata": {
        "id": "D6spEy-OA2DX"
      },
      "outputs": [],
      "source": [
        "import random\n",
        "\n",
        "numero_secreto = random.randint(1, 10)\n",
        "intentos = 0\n",
        "\n",
        "while intentos < 3:\n",
        "    adivinanza = int(input(\"Adivina el número secreto (entre 1 y 10): \"))\n",
        "    if adivinanza == numero_secreto:\n",
        "        print(\"¡Felicidades! ¡Adivinaste el número secreto!\")\n",
        "        break\n",
        "    else:\n",
        "      print(\"intenta nuevamente.\")\n",
        "      intentos += 1\n",
        "else:\n",
        "    print(f\"Lo siento, no tienes más intentos. El número secreto era {numero_secreto}.\")\n"
      ]
    }
  ]
}