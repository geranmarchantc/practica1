{
  "nbformat": 4,
  "nbformat_minor": 0,
  "metadata": {
    "colab": {
      "provenance": [],
      "authorship_tag": "ABX9TyOkh+ph2BRJX36u9IThfNhj",
      "include_colab_link": true
    },
    "kernelspec": {
      "name": "python3",
      "display_name": "Python 3"
    },
    "language_info": {
      "name": "python"
    }
  },
  "cells": [
    {
      "cell_type": "markdown",
      "metadata": {
        "id": "view-in-github",
        "colab_type": "text"
      },
      "source": [
        "<a href=\"https://colab.research.google.com/github/geranmarchantc/practica1/blob/main/tarea_3.ipynb\" target=\"_parent\"><img src=\"https://colab.research.google.com/assets/colab-badge.svg\" alt=\"Open In Colab\"/></a>"
      ]
    },
    {
      "cell_type": "code",
      "execution_count": null,
      "metadata": {
        "id": "dy6eHFI_gaIM"
      },
      "outputs": [],
      "source": [
        "def perfil_usuario():\n",
        "    nombre = input(\"Tu nombre es: \")\n",
        "    edad = input(\"Tu edad: \")\n",
        "    ocupacion = input(\"Tu ocupación: \")\n",
        "    telefono = input(\"Tu número: \")\n",
        "    print(\"Hola\", nombre, \", tienes\", edad + \" años. Trabajas como\", ocupacion + \" y tu número es\", telefono + \", Gracias por registrarte.\")\n",
        "\n",
        "perfil_usuario()"
      ]
    }
  ]
}