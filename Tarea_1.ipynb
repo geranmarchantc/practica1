{
  "nbformat": 4,
  "nbformat_minor": 0,
  "metadata": {
    "colab": {
      "provenance": [],
      "authorship_tag": "ABX9TyO1JIpxsNcb8bekba3URIgJ",
      "include_colab_link": true
    },
    "kernelspec": {
      "name": "python3",
      "display_name": "Python 3"
    },
    "language_info": {
      "name": "python"
    }
  },
  "cells": [
    {
      "cell_type": "markdown",
      "metadata": {
        "id": "view-in-github",
        "colab_type": "text"
      },
      "source": [
        "<a href=\"https://colab.research.google.com/github/geranmarchantc/practica1/blob/main/Tarea_1.ipynb\" target=\"_parent\"><img src=\"https://colab.research.google.com/assets/colab-badge.svg\" alt=\"Open In Colab\"/></a>"
      ]
    },
    {
      "cell_type": "code",
      "execution_count": 32,
      "metadata": {
        "colab": {
          "base_uri": "https://localhost:8080/"
        },
        "id": "l1m04cd8-672",
        "outputId": "aba220e4-33ae-4262-e782-4c68ba9a2ec6"
      },
      "outputs": [
        {
          "output_type": "stream",
          "name": "stdout",
          "text": [
            "hola mi nombre es Geraldine Marchant Carrasco . Tengo 34 años y vivo en santiago\n",
            "trabajo como licenciada en fisioterapia y rehabilitacion fisica en el emprendimiento Sanar Alma\n",
            "tengo 2 gatos llamados Mia Catalina y Nino\n",
            "mis hobbies son pintar, cantar, viajar.\n"
          ]
        }
      ],
      "source": [
        "# Presentación personal\n",
        "\n",
        "nombre = \"Geraldine\"\n",
        "apellidos = \"Marchant Carrasco\"\n",
        "edad = 34\n",
        "ciudad = \"santiago\"\n",
        "\n",
        "ocupacion = \"licenciada en fisioterapia y rehabilitacion fisica\"\n",
        "nombre_emprendimiento = \"Sanar Alma\"\n",
        "tieneGatos = True\n",
        "cantidadGatos = 2\n",
        "gato1 = \"Mia Catalina\"\n",
        "gato2 = \"Nino\"\n",
        "\n",
        "hobbie = [\"pintar\", \"cantar\", \"viajar\" \".\"]\n",
        "\n",
        "# Imprimir mensaje en pantalla\n",
        "\n",
        "print(\"hola mi nombre es\", nombre, apellidos, \". Tengo\", edad, \"años y vivo en\", ciudad)\n",
        "print(\"trabajo como\", ocupacion, \"en el emprendimiento\", nombre_emprendimiento)\n",
        "print(\"tengo\", cantidadGatos, \"gatos llamados\", gato1, \"y\", gato2)\n",
        "print(\"mis hobbies son\", \", \".join(hobbie))\n"
      ]
    }
  ]
}