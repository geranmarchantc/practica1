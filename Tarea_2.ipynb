{
  "nbformat": 4,
  "nbformat_minor": 0,
  "metadata": {
    "colab": {
      "provenance": [],
      "authorship_tag": "ABX9TyOEl8keGVz7ijaPL4JHN7+6",
      "include_colab_link": true
    },
    "kernelspec": {
      "name": "python3",
      "display_name": "Python 3"
    },
    "language_info": {
      "name": "python"
    }
  },
  "cells": [
    {
      "cell_type": "markdown",
      "metadata": {
        "id": "view-in-github",
        "colab_type": "text"
      },
      "source": [
        "<a href=\"https://colab.research.google.com/github/geranmarchantc/practica1/blob/main/Tarea_2.ipynb\" target=\"_parent\"><img src=\"https://colab.research.google.com/assets/colab-badge.svg\" alt=\"Open In Colab\"/></a>"
      ]
    },
    {
      "cell_type": "code",
      "source": [
        "def cajero_automatico():\n",
        "    saldo = 95000\n",
        "\n",
        "    cuenta = input(\"Por favor, introduzca su número de cuenta para continuar:\")\n",
        "    print(f\"Cuenta {cuenta} ingresada exitosamente.\\n\")\n",
        "\n",
        "    # Funciones lambda\n",
        "    mostrar_saldo = lambda s: f\"¡Su saldo actual es de ${s}!\"\n",
        "    restar = lambda s, c: s - c\n",
        "    sumar = lambda s, c: s + c\n",
        "    retiro_exitoso = lambda c, s: f\"¡Retiro exitoso! Ha retirado ${c}. Su saldo actual es de ${s}.\"\n",
        "    deposito_exitoso = lambda c, s: f\"¡Depósito exitoso! Ha depositado ${c}. Su saldo actual es de ${s}.\"\n",
        "    transferencia_exitosa = lambda c, d: f\"¡Transferencia exitosa! Ha transferido ${c} a la cuenta {d}.\"\n",
        "\n",
        "    while True:\n",
        "        print(\"\\nOpciones disponibles:\")\n",
        "        print(\"1. Consultar saldo\")\n",
        "        print(\"2. Retirar dinero\")\n",
        "        print(\"3. Depositar dinero\")\n",
        "        print(\"4. Transferir dinero a otra cuenta\")\n",
        "        print(\"5. Salir\")\n",
        "\n",
        "        opcion = input(\"Seleccione una opción (1-5): \")\n",
        "\n",
        "        if opcion == '1':\n",
        "            print(mostrar_saldo(saldo))\n",
        "\n",
        "        elif opcion == '2':\n",
        "            try:\n",
        "                cantidad = int(input(\"Ingrese la cantidad a retirar: \"))\n",
        "                if cantidad > 0 and cantidad <= saldo:\n",
        "                    saldo = restar(saldo, cantidad)\n",
        "                    print(retiro_exitoso(cantidad, saldo))\n",
        "                else:\n",
        "                    print(\"Cantidad inválida o fondos insuficientes.\")\n",
        "            except ValueError:\n",
        "                print(\"Entrada inválida.\")\n",
        "\n",
        "        elif opcion == '3':\n",
        "            try:\n",
        "                cantidad = int(input(\"Ingrese la cantidad a depositar: \"))\n",
        "                if cantidad > 0:\n",
        "                    saldo = sumar(saldo, cantidad)\n",
        "                    print(deposito_exitoso(cantidad, saldo))\n",
        "                else:\n",
        "                    print(\"Cantidad inválida.\")\n",
        "            except ValueError:\n",
        "                print(\"Entrada inválida.\")\n",
        "\n",
        "        elif opcion == '4':\n",
        "            cuenta_destino = input(\"Ingrese el número de cuenta de destino: \")\n",
        "            try:\n",
        "                cantidad = int(input(\"Ingrese la cantidad a transferir: \"))\n",
        "                if cantidad > 0 and cantidad <= saldo:\n",
        "                    saldo = restar(saldo, cantidad)\n",
        "                    print(transferencia_exitosa(cantidad, cuenta_destino))\n",
        "                else:\n",
        "                    print(\"Cantidad inválida o fondos insuficientes.\")\n",
        "            except ValueError:\n",
        "                print(\"Entrada inválida.\")\n",
        "\n",
        "        elif opcion == '5':\n",
        "            print(\"¡Gracias por usar el simulador de cajero automático!\")\n",
        "            break\n",
        "\n",
        "        else:\n",
        "            print(\"Opción no válida. Intente nuevamente.\")\n",
        "\n",
        "# Ejecutar simulador\n",
        "cajero_automatico()\n"
      ],
      "metadata": {
        "id": "KmhMMewwNqVy"
      },
      "execution_count": null,
      "outputs": []
    }
  ]
}