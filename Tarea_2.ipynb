{
  "nbformat": 4,
  "nbformat_minor": 0,
  "metadata": {
    "colab": {
      "provenance": [],
      "authorship_tag": "ABX9TyMHWZHpYnu2S5OlNBUjMpgb",
      "include_colab_link": true
    },
    "kernelspec": {
      "name": "python3",
      "display_name": "Python 3"
    },
    "language_info": {
      "name": "python"
    }
  },
  "cells": [
    {
      "cell_type": "markdown",
      "metadata": {
        "id": "view-in-github",
        "colab_type": "text"
      },
      "source": [
        "<a href=\"https://colab.research.google.com/github/geranmarchantc/practica1/blob/main/Tarea_2.ipynb\" target=\"_parent\"><img src=\"https://colab.research.google.com/assets/colab-badge.svg\" alt=\"Open In Colab\"/></a>"
      ]
    },
    {
      "cell_type": "code",
      "source": [
        "def cajero_automatico():\n",
        "    saldo = 5000\n",
        "\n",
        "    cuenta = input(\"Por favor, introduzca su número de cuenta para continuar:\")\n",
        "    print(f\"Cuenta {cuenta} ingresada exitosamente.\\n\")\n",
        "\n",
        "    # Funciones lambda\n",
        "    mostrar_saldo = lambda s: f\"¡Su saldo actual es de ${s}!\"\n",
        "    restar = lambda s, c: s - c\n",
        "    sumar = lambda s, c: s + c\n",
        "    retiro_exitoso = lambda c, s: f\"¡Retiro exitoso! Ha retirado ${c}. Su saldo actual es de ${s}.\"\n",
        "    deposito_exitoso = lambda c, s: f\"¡Depósito exitoso! Ha depositado ${c}. Su saldo actual es de ${s}.\"\n",
        "    transferencia_exitosa = lambda c, d: f\"¡Transferencia exitosa! Ha transferido ${c} a la cuenta {d}.\"\n",
        "\n",
        "    while True:\n",
        "        print(\"\\nOpciones disponibles:\")\n",
        "        print(\"1. Consultar saldo\")\n",
        "        print(\"2. Retirar dinero\")\n",
        "        print(\"3. Depositar dinero\")\n",
        "        print(\"4. Transferir dinero a otra cuenta\")\n",
        "        print(\"5. Salir\")\n",
        "\n",
        "        opcion = input(\"Seleccione una opción (1-5): \")\n",
        "\n",
        "        if opcion == '1':\n",
        "            print(mostrar_saldo(saldo))\n",
        "\n",
        "        elif opcion == '2':\n",
        "            try:\n",
        "                cantidad = int(input(\"Ingrese la cantidad a retirar: \"))\n",
        "                if cantidad > 0 and cantidad <= saldo:\n",
        "                    saldo = restar(saldo, cantidad)\n",
        "                    print(retiro_exitoso(cantidad, saldo))\n",
        "                else:\n",
        "                    print(\"Cantidad inválida o fondos insuficientes.\")\n",
        "            except ValueError:\n",
        "                print(\"Entrada inválida.\")\n",
        "\n",
        "        elif opcion == '3':\n",
        "            try:\n",
        "                cantidad = int(input(\"Ingrese la cantidad a depositar: \"))\n",
        "                if cantidad > 0:\n",
        "                    saldo = sumar(saldo, cantidad)\n",
        "                    print(deposito_exitoso(cantidad, saldo))\n",
        "                else:\n",
        "                    print(\"Cantidad inválida.\")\n",
        "            except ValueError:\n",
        "                print(\"Entrada inválida.\")\n",
        "\n",
        "        elif opcion == '4':\n",
        "            cuenta_destino = input(\"Ingrese el número de cuenta de destino: \")\n",
        "            try:\n",
        "                cantidad = int(input(\"Ingrese la cantidad a transferir: \"))\n",
        "                if cantidad > 0 and cantidad <= saldo:\n",
        "                    saldo = restar(saldo, cantidad)\n",
        "                    print(transferencia_exitosa(cantidad, cuenta_destino))\n",
        "                else:\n",
        "                    print(\"Cantidad inválida o fondos insuficientes.\")\n",
        "            except ValueError:\n",
        "                print(\"Entrada inválida.\")\n",
        "\n",
        "        elif opcion == '5':\n",
        "            print(\"¡Gracias por usar el simulador de cajero automático!\")\n",
        "            break\n",
        "\n",
        "        else:\n",
        "            print(\"Opción no válida. Intente nuevamente.\")\n",
        "\n",
        "# Ejecutar simulador\n",
        "cajero_automatico()\n"
      ],
      "metadata": {
        "colab": {
          "base_uri": "https://localhost:8080/",
          "height": 321
        },
        "id": "KmhMMewwNqVy",
        "outputId": "0f079bca-45e3-4f49-aa3e-3d2432d8bf5e"
      },
      "execution_count": 30,
      "outputs": [
        {
          "output_type": "error",
          "ename": "KeyboardInterrupt",
          "evalue": "Interrupted by user",
          "traceback": [
            "\u001b[0;31m---------------------------------------------------------------------------\u001b[0m",
            "\u001b[0;31mKeyboardInterrupt\u001b[0m                         Traceback (most recent call last)",
            "\u001b[0;32m<ipython-input-30-78e25045c30f>\u001b[0m in \u001b[0;36m<cell line: 0>\u001b[0;34m()\u001b[0m\n\u001b[1;32m     68\u001b[0m \u001b[0;34m\u001b[0m\u001b[0m\n\u001b[1;32m     69\u001b[0m \u001b[0;31m# Ejecutar simulador\u001b[0m\u001b[0;34m\u001b[0m\u001b[0;34m\u001b[0m\u001b[0m\n\u001b[0;32m---> 70\u001b[0;31m \u001b[0mcajero_automatico\u001b[0m\u001b[0;34m(\u001b[0m\u001b[0;34m)\u001b[0m\u001b[0;34m\u001b[0m\u001b[0;34m\u001b[0m\u001b[0m\n\u001b[0m",
            "\u001b[0;32m<ipython-input-30-78e25045c30f>\u001b[0m in \u001b[0;36mcajero_automatico\u001b[0;34m()\u001b[0m\n\u001b[1;32m      2\u001b[0m     \u001b[0msaldo\u001b[0m \u001b[0;34m=\u001b[0m \u001b[0;36m5000\u001b[0m\u001b[0;34m\u001b[0m\u001b[0;34m\u001b[0m\u001b[0m\n\u001b[1;32m      3\u001b[0m \u001b[0;34m\u001b[0m\u001b[0m\n\u001b[0;32m----> 4\u001b[0;31m     \u001b[0mcuenta\u001b[0m \u001b[0;34m=\u001b[0m \u001b[0minput\u001b[0m\u001b[0;34m(\u001b[0m\u001b[0;34m\"Por favor, introduzca su número de cuenta para continuar:\"\u001b[0m\u001b[0;34m)\u001b[0m\u001b[0;34m\u001b[0m\u001b[0;34m\u001b[0m\u001b[0m\n\u001b[0m\u001b[1;32m      5\u001b[0m     \u001b[0mprint\u001b[0m\u001b[0;34m(\u001b[0m\u001b[0;34mf\"Cuenta {cuenta} ingresada exitosamente.\\n\"\u001b[0m\u001b[0;34m)\u001b[0m\u001b[0;34m\u001b[0m\u001b[0;34m\u001b[0m\u001b[0m\n\u001b[1;32m      6\u001b[0m \u001b[0;34m\u001b[0m\u001b[0m\n",
            "\u001b[0;32m/usr/local/lib/python3.11/dist-packages/ipykernel/kernelbase.py\u001b[0m in \u001b[0;36mraw_input\u001b[0;34m(self, prompt)\u001b[0m\n\u001b[1;32m   1175\u001b[0m                 \u001b[0;34m\"raw_input was called, but this frontend does not support input requests.\"\u001b[0m\u001b[0;34m\u001b[0m\u001b[0;34m\u001b[0m\u001b[0m\n\u001b[1;32m   1176\u001b[0m             )\n\u001b[0;32m-> 1177\u001b[0;31m         return self._input_request(\n\u001b[0m\u001b[1;32m   1178\u001b[0m             \u001b[0mstr\u001b[0m\u001b[0;34m(\u001b[0m\u001b[0mprompt\u001b[0m\u001b[0;34m)\u001b[0m\u001b[0;34m,\u001b[0m\u001b[0;34m\u001b[0m\u001b[0;34m\u001b[0m\u001b[0m\n\u001b[1;32m   1179\u001b[0m             \u001b[0mself\u001b[0m\u001b[0;34m.\u001b[0m\u001b[0m_parent_ident\u001b[0m\u001b[0;34m[\u001b[0m\u001b[0;34m\"shell\"\u001b[0m\u001b[0;34m]\u001b[0m\u001b[0;34m,\u001b[0m\u001b[0;34m\u001b[0m\u001b[0;34m\u001b[0m\u001b[0m\n",
            "\u001b[0;32m/usr/local/lib/python3.11/dist-packages/ipykernel/kernelbase.py\u001b[0m in \u001b[0;36m_input_request\u001b[0;34m(self, prompt, ident, parent, password)\u001b[0m\n\u001b[1;32m   1217\u001b[0m             \u001b[0;32mexcept\u001b[0m \u001b[0mKeyboardInterrupt\u001b[0m\u001b[0;34m:\u001b[0m\u001b[0;34m\u001b[0m\u001b[0;34m\u001b[0m\u001b[0m\n\u001b[1;32m   1218\u001b[0m                 \u001b[0;31m# re-raise KeyboardInterrupt, to truncate traceback\u001b[0m\u001b[0;34m\u001b[0m\u001b[0;34m\u001b[0m\u001b[0m\n\u001b[0;32m-> 1219\u001b[0;31m                 \u001b[0;32mraise\u001b[0m \u001b[0mKeyboardInterrupt\u001b[0m\u001b[0;34m(\u001b[0m\u001b[0;34m\"Interrupted by user\"\u001b[0m\u001b[0;34m)\u001b[0m \u001b[0;32mfrom\u001b[0m \u001b[0;32mNone\u001b[0m\u001b[0;34m\u001b[0m\u001b[0;34m\u001b[0m\u001b[0m\n\u001b[0m\u001b[1;32m   1220\u001b[0m             \u001b[0;32mexcept\u001b[0m \u001b[0mException\u001b[0m\u001b[0;34m:\u001b[0m\u001b[0;34m\u001b[0m\u001b[0;34m\u001b[0m\u001b[0m\n\u001b[1;32m   1221\u001b[0m                 \u001b[0mself\u001b[0m\u001b[0;34m.\u001b[0m\u001b[0mlog\u001b[0m\u001b[0;34m.\u001b[0m\u001b[0mwarning\u001b[0m\u001b[0;34m(\u001b[0m\u001b[0;34m\"Invalid Message:\"\u001b[0m\u001b[0;34m,\u001b[0m \u001b[0mexc_info\u001b[0m\u001b[0;34m=\u001b[0m\u001b[0;32mTrue\u001b[0m\u001b[0;34m)\u001b[0m\u001b[0;34m\u001b[0m\u001b[0;34m\u001b[0m\u001b[0m\n",
            "\u001b[0;31mKeyboardInterrupt\u001b[0m: Interrupted by user"
          ]
        }
      ]
    }
  ]
}